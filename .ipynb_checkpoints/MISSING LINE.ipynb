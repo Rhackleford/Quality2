{
 "cells": [
  {
   "cell_type": "code",
   "execution_count": 9,
   "id": "02077c5b-514a-45ca-a85f-87f9cf17d1a3",
   "metadata": {
    "tags": []
   },
   "outputs": [
    {
     "data": {
      "text/html": [
       "<div>\n",
       "<style scoped>\n",
       "    .dataframe tbody tr th:only-of-type {\n",
       "        vertical-align: middle;\n",
       "    }\n",
       "\n",
       "    .dataframe tbody tr th {\n",
       "        vertical-align: top;\n",
       "    }\n",
       "\n",
       "    .dataframe thead th {\n",
       "        text-align: right;\n",
       "    }\n",
       "</style>\n",
       "<table border=\"1\" class=\"dataframe\">\n",
       "  <thead>\n",
       "    <tr style=\"text-align: right;\">\n",
       "      <th></th>\n",
       "      <th>PSI ID: 7 - Base- Pie Cut (Right) -</th>\n",
       "      <th>PSI ID: 9 - Wall- Diagonal Corner -</th>\n",
       "    </tr>\n",
       "  </thead>\n",
       "  <tbody>\n",
       "  </tbody>\n",
       "</table>\n",
       "</div>"
      ],
      "text/plain": [
       "Empty DataFrame\n",
       "Columns: [PSI ID: 7 - Base- Pie Cut (Right) -, PSI ID: 9 - Wall- Diagonal Corner -]\n",
       "Index: []"
      ]
     },
     "execution_count": 9,
     "metadata": {},
     "output_type": "execute_result"
    }
   ],
   "source": [
    "import re\n",
    "import PyPDF2\n",
    "import tabula\n",
    "import pandas as pd\n",
    "import numpy as np\n",
    "\n",
    "def inches_to_points(inches):\n",
    "    return inches * 72\n",
    "\n",
    "def extract_tables_tabula(doc):\n",
    "    # Read the PDF file using tabula\n",
    "    # Convert the coordinates from inches to points\n",
    "    top, left, bottom, right = inches_to_points(7.45), inches_to_points(0.24), inches_to_points(7.75), inches_to_points(3)\n",
    "    area = [top, left, bottom, right]\n",
    "    xdf = tabula.read_pdf(doc, pages='all', multiple_tables=True, stream=True, guess=True, area=area)\n",
    "    xdf = pd.concat(xdf)\n",
    "    return xdf\n",
    "    print(xdf)\n",
    "    \n",
    "doc = \"/home/justin/PycharmProjects/Sheet/Testlists/AM001453 .pdf\"\n",
    "extract_tables_tabula(doc)"
   ]
  },
  {
   "cell_type": "code",
   "execution_count": null,
   "id": "40dcaf47-f18d-4d09-86ca-aca1d20585d7",
   "metadata": {},
   "outputs": [],
   "source": []
  }
 ],
 "metadata": {
  "kernelspec": {
   "display_name": "Python 3 (ipykernel)",
   "language": "python",
   "name": "python3"
  },
  "language_info": {
   "codemirror_mode": {
    "name": "ipython",
    "version": 3
   },
   "file_extension": ".py",
   "mimetype": "text/x-python",
   "name": "python",
   "nbconvert_exporter": "python",
   "pygments_lexer": "ipython3",
   "version": "3.11.3"
  }
 },
 "nbformat": 4,
 "nbformat_minor": 5
}
